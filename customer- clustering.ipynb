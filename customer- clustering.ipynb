{
 "cells": [
  {
   "cell_type": "markdown",
   "id": "c21aedc9",
   "metadata": {
    "papermill": {
     "duration": 0.008867,
     "end_time": "2024-12-04T13:21:11.639384",
     "exception": false,
     "start_time": "2024-12-04T13:21:11.630517",
     "status": "completed"
    },
    "tags": []
   },
   "source": [
    "# About Data \n",
    "## Bank Customer Segmentation\r\n",
    "Most banks have a large customer base - with different characteristics in terms of age, income, values, lifestyle, and more. Customer segmentation is the process of dividing a customer dataset into specific groups based on shared traits., h anasis of customer data.lysis o customer data."
   ]
  },
  {
   "cell_type": "markdown",
   "id": "3d8a25f7",
   "metadata": {
    "papermill": {
     "duration": 0.008778,
     "end_time": "2024-12-04T13:21:11.656924",
     "exception": false,
     "start_time": "2024-12-04T13:21:11.648146",
     "status": "completed"
    },
    "tags": []
   },
   "source": [
    "# Analysis Points\n",
    "\n",
    "1. **Clustering & Segmentation**  \n",
    "   - Identify popular customer groups with definitions and rules.\n",
    "\n",
    "2. **Location-wise Trends**  \n",
    "   - Analyze regional patterns across India.\n",
    "\n",
    "3. **Transaction Trends**  \n",
    "   - Discover insights to improve user experience.\n",
    "\n",
    "4. **RFM Analysis**  \n",
    "   - Study customer **Recency**, **Frequency**, and **Monetary** behaviors.\n",
    "\n",
    "5. **Network/Graph Analysis**  \n",
    "   - Explore customer relationships and interactions.\n"
   ]
  },
  {
   "cell_type": "markdown",
   "id": "d9f3c8ba",
   "metadata": {
    "papermill": {
     "duration": 0.007758,
     "end_time": "2024-12-04T13:21:11.672706",
     "exception": false,
     "start_time": "2024-12-04T13:21:11.664948",
     "status": "completed"
    },
    "tags": []
   },
   "source": [
    "# 1. Clustering & Segmentation\n",
    "\n",
    "Clustering groups customers based on shared traits or behaviors using algorithms like **K-Means** or **DBSCAN**.  \n",
    "\n",
    "#### Key Steps: \n",
    "1. **Understand and Clean data**: first we understant & clean the data.  \n",
    "2. **Choose Features**: Focus on variables like age, spending, or frequency.  \n",
    "3. **Apply Algorithm**: Group customers into clusters.  \n",
    "4. **Analyze Segments**: Identify unique characteristics of each group.  \n",
    "\n",
    "#### Benefits:\n",
    "- Personalized marketing and offers.  \n",
    "- Better customer retention.  \n",
    "- Insights into new or underperforming segments.  "
   ]
  },
  {
   "cell_type": "markdown",
   "id": "65cc2ca8",
   "metadata": {
    "papermill": {
     "duration": 0.007619,
     "end_time": "2024-12-04T13:21:11.688316",
     "exception": false,
     "start_time": "2024-12-04T13:21:11.680697",
     "status": "completed"
    },
    "tags": []
   },
   "source": [
    "## understanding data"
   ]
  },
  {
   "cell_type": "code",
   "execution_count": 20,
   "id": "19fa279e",
   "metadata": {
    "papermill": {
     "duration": 4.715469,
     "end_time": "2024-12-04T13:21:16.411747",
     "exception": false,
     "start_time": "2024-12-04T13:21:11.696278",
     "status": "completed"
    },
    "tags": []
   },
   "outputs": [
    {
     "name": "stdout",
     "output_type": "stream",
     "text": [
      "<class 'pandas.core.frame.DataFrame'>\n",
      "RangeIndex: 1048567 entries, 0 to 1048566\n",
      "Data columns (total 9 columns):\n",
      " #   Column                   Non-Null Count    Dtype  \n",
      "---  ------                   --------------    -----  \n",
      " 0   TransactionID            1048567 non-null  object \n",
      " 1   CustomerID               1048567 non-null  object \n",
      " 2   CustomerDOB              1045170 non-null  object \n",
      " 3   CustGender               1047467 non-null  object \n",
      " 4   CustLocation             1048416 non-null  object \n",
      " 5   CustAccountBalance       1046198 non-null  float64\n",
      " 6   TransactionDate          1048567 non-null  object \n",
      " 7   TransactionTime          1048567 non-null  int64  \n",
      " 8   TransactionAmount (INR)  1048567 non-null  float64\n",
      "dtypes: float64(2), int64(1), object(6)\n",
      "memory usage: 72.0+ MB\n"
     ]
    }
   ],
   "source": [
    "import pandas as pd\n",
    "\n",
    "# Load the dataset\n",
    "df = pd.read_csv(r\"D:\\MDT38\\Proj, capstone\\project_final\\bank_transactions.csv\")  \n",
    "\n",
    "# Overview of the data\n",
    "df.info()  # Check data types and non-null counts"
   ]
  },
  {
   "cell_type": "markdown",
   "id": "d77bdfe6",
   "metadata": {
    "papermill": {
     "duration": 0.008233,
     "end_time": "2024-12-04T13:21:16.428288",
     "exception": false,
     "start_time": "2024-12-04T13:21:16.420055",
     "status": "completed"
    },
    "tags": []
   },
   "source": [
    "### what the above code is telling us \n",
    "\n",
    "- **Total Entries**: 1,048,567  \n",
    "- **Columns**: 9  \n",
    "- **Data Types**:  \n",
    "  - `float64`: 2 columns (e.g., account balance, transaction amount)  \n",
    "  - `int64`: 1 column (transaction time)  \n",
    "  - `object`: 6 columns (e.g., IDs, dates, location, gender)  \n",
    "\n",
    "#### Columns Explanation:\n",
    "1. **TransactionID**: Unique identifier for each transaction.\n",
    "2. **CustomerID**: Unique identifier for each customer.\n",
    "3. **CustomerDOB**: Date of birth of the customer (some missing data becase 1045170 is less then other values same for some other cases). \n",
    "4. **CustGender**: Gender of the customer (some missing data).\n",
    "5. **CustLocation**: Location of the customer (some missing data).\n",
    "6. **CustAccountBalance**: Balance in the customer’s account (some missing data).\n",
    "7. **TransactionDate**: Date when the transaction occurred.\n",
    "8. **TransactionTime**: Time of the transaction (in integer format).\n",
    "9. **TransactionAmount (INR)**: Amount of money transacted in Indian Rupees.\n",
    "\n",
    "#### Key Details:\n",
    "- Columns like `CustomerDOB`, `CustGender`, and `CustAccountBalance` have some missing values.  \n",
    "- `TransactionID`, `CustomerID`, `TransactionDate`, and `TransactionAmount (INR)` are fully populated. "
   ]
  },
  {
   "cell_type": "code",
   "execution_count": 21,
   "id": "d90658a4",
   "metadata": {
    "papermill": {
     "duration": 0.181761,
     "end_time": "2024-12-04T13:21:16.618478",
     "exception": false,
     "start_time": "2024-12-04T13:21:16.436717",
     "status": "completed"
    },
    "tags": []
   },
   "outputs": [
    {
     "data": {
      "text/html": [
       "<div>\n",
       "<style scoped>\n",
       "    .dataframe tbody tr th:only-of-type {\n",
       "        vertical-align: middle;\n",
       "    }\n",
       "\n",
       "    .dataframe tbody tr th {\n",
       "        vertical-align: top;\n",
       "    }\n",
       "\n",
       "    .dataframe thead th {\n",
       "        text-align: right;\n",
       "    }\n",
       "</style>\n",
       "<table border=\"1\" class=\"dataframe\">\n",
       "  <thead>\n",
       "    <tr style=\"text-align: right;\">\n",
       "      <th></th>\n",
       "      <th>CustAccountBalance</th>\n",
       "      <th>TransactionTime</th>\n",
       "      <th>TransactionAmount (INR)</th>\n",
       "    </tr>\n",
       "  </thead>\n",
       "  <tbody>\n",
       "    <tr>\n",
       "      <th>count</th>\n",
       "      <td>1,046,198</td>\n",
       "      <td>1,048,567</td>\n",
       "      <td>1,048,567</td>\n",
       "    </tr>\n",
       "    <tr>\n",
       "      <th>mean</th>\n",
       "      <td>115,404</td>\n",
       "      <td>157,088</td>\n",
       "      <td>1,574</td>\n",
       "    </tr>\n",
       "    <tr>\n",
       "      <th>std</th>\n",
       "      <td>846,485</td>\n",
       "      <td>51,262</td>\n",
       "      <td>6,575</td>\n",
       "    </tr>\n",
       "    <tr>\n",
       "      <th>min</th>\n",
       "      <td>0</td>\n",
       "      <td>0</td>\n",
       "      <td>0</td>\n",
       "    </tr>\n",
       "    <tr>\n",
       "      <th>25%</th>\n",
       "      <td>4,722</td>\n",
       "      <td>124,030</td>\n",
       "      <td>161</td>\n",
       "    </tr>\n",
       "    <tr>\n",
       "      <th>50%</th>\n",
       "      <td>16,792</td>\n",
       "      <td>164,226</td>\n",
       "      <td>459</td>\n",
       "    </tr>\n",
       "    <tr>\n",
       "      <th>75%</th>\n",
       "      <td>57,657</td>\n",
       "      <td>200,010</td>\n",
       "      <td>1,200</td>\n",
       "    </tr>\n",
       "    <tr>\n",
       "      <th>max</th>\n",
       "      <td>115,035,495</td>\n",
       "      <td>235,959</td>\n",
       "      <td>1,560,035</td>\n",
       "    </tr>\n",
       "  </tbody>\n",
       "</table>\n",
       "</div>"
      ],
      "text/plain": [
       "       CustAccountBalance  TransactionTime  TransactionAmount (INR)\n",
       "count           1,046,198        1,048,567                1,048,567\n",
       "mean              115,404          157,088                    1,574\n",
       "std               846,485           51,262                    6,575\n",
       "min                     0                0                        0\n",
       "25%                 4,722          124,030                      161\n",
       "50%                16,792          164,226                      459\n",
       "75%                57,657          200,010                    1,200\n",
       "max           115,035,495          235,959                1,560,035"
      ]
     },
     "execution_count": 21,
     "metadata": {},
     "output_type": "execute_result"
    }
   ],
   "source": [
    "\n",
    "#This will ensure that the numbers are displayed without scientific notation \n",
    "#and are shown as complete values, such as 1,046,198 instead of 1.046198e+06\n",
    "pd.options.display.float_format = '{:,.0f}'.format\n",
    "\n",
    "df.describe()  # Summary statistics for numeric columns\n"
   ]
  },
  {
   "cell_type": "markdown",
   "id": "efb11060",
   "metadata": {
    "papermill": {
     "duration": 0.008869,
     "end_time": "2024-12-04T13:21:16.636054",
     "exception": false,
     "start_time": "2024-12-04T13:21:16.627185",
     "status": "completed"
    },
    "tags": []
   },
   "source": [
    "### Dataset Summary Statistics\n",
    "\n",
    "#### Insights:\n",
    "- **CustAccountBalance** has a wide range, from 0 to over 115 million.\n",
    "- **TransactionTime** is recorded as integers, with the majority of transactions occurring in the 124,000 to 235,000 range.\n",
    "- **TransactionAmount(INR)** shows a typical transaction value around 1,574, with outliers reaching up to 1.56 million.\n",
    "\n",
    "th outliers reaching up to ₹1.56 million.\r\n"
   ]
  },
  {
   "cell_type": "code",
   "execution_count": 22,
   "id": "08a5bd10",
   "metadata": {
    "papermill": {
     "duration": 0.026305,
     "end_time": "2024-12-04T13:21:16.670701",
     "exception": false,
     "start_time": "2024-12-04T13:21:16.644396",
     "status": "completed"
    },
    "tags": []
   },
   "outputs": [
    {
     "data": {
      "text/html": [
       "<div>\n",
       "<style scoped>\n",
       "    .dataframe tbody tr th:only-of-type {\n",
       "        vertical-align: middle;\n",
       "    }\n",
       "\n",
       "    .dataframe tbody tr th {\n",
       "        vertical-align: top;\n",
       "    }\n",
       "\n",
       "    .dataframe thead th {\n",
       "        text-align: right;\n",
       "    }\n",
       "</style>\n",
       "<table border=\"1\" class=\"dataframe\">\n",
       "  <thead>\n",
       "    <tr style=\"text-align: right;\">\n",
       "      <th></th>\n",
       "      <th>TransactionID</th>\n",
       "      <th>CustomerID</th>\n",
       "      <th>CustomerDOB</th>\n",
       "      <th>CustGender</th>\n",
       "      <th>CustLocation</th>\n",
       "      <th>CustAccountBalance</th>\n",
       "      <th>TransactionDate</th>\n",
       "      <th>TransactionTime</th>\n",
       "      <th>TransactionAmount (INR)</th>\n",
       "    </tr>\n",
       "  </thead>\n",
       "  <tbody>\n",
       "    <tr>\n",
       "      <th>0</th>\n",
       "      <td>T1</td>\n",
       "      <td>C5841053</td>\n",
       "      <td>10/1/94</td>\n",
       "      <td>F</td>\n",
       "      <td>JAMSHEDPUR</td>\n",
       "      <td>17,819</td>\n",
       "      <td>2/8/16</td>\n",
       "      <td>143207</td>\n",
       "      <td>25</td>\n",
       "    </tr>\n",
       "    <tr>\n",
       "      <th>1</th>\n",
       "      <td>T2</td>\n",
       "      <td>C2142763</td>\n",
       "      <td>4/4/57</td>\n",
       "      <td>M</td>\n",
       "      <td>JHAJJAR</td>\n",
       "      <td>2,271</td>\n",
       "      <td>2/8/16</td>\n",
       "      <td>141858</td>\n",
       "      <td>27,999</td>\n",
       "    </tr>\n",
       "    <tr>\n",
       "      <th>2</th>\n",
       "      <td>T3</td>\n",
       "      <td>C4417068</td>\n",
       "      <td>26/11/96</td>\n",
       "      <td>F</td>\n",
       "      <td>MUMBAI</td>\n",
       "      <td>17,874</td>\n",
       "      <td>2/8/16</td>\n",
       "      <td>142712</td>\n",
       "      <td>459</td>\n",
       "    </tr>\n",
       "    <tr>\n",
       "      <th>3</th>\n",
       "      <td>T4</td>\n",
       "      <td>C5342380</td>\n",
       "      <td>14/9/73</td>\n",
       "      <td>F</td>\n",
       "      <td>MUMBAI</td>\n",
       "      <td>866,503</td>\n",
       "      <td>2/8/16</td>\n",
       "      <td>142714</td>\n",
       "      <td>2,060</td>\n",
       "    </tr>\n",
       "    <tr>\n",
       "      <th>4</th>\n",
       "      <td>T5</td>\n",
       "      <td>C9031234</td>\n",
       "      <td>24/3/88</td>\n",
       "      <td>F</td>\n",
       "      <td>NAVI MUMBAI</td>\n",
       "      <td>6,714</td>\n",
       "      <td>2/8/16</td>\n",
       "      <td>181156</td>\n",
       "      <td>1,762</td>\n",
       "    </tr>\n",
       "  </tbody>\n",
       "</table>\n",
       "</div>"
      ],
      "text/plain": [
       "  TransactionID CustomerID CustomerDOB CustGender CustLocation  \\\n",
       "0            T1   C5841053     10/1/94          F   JAMSHEDPUR   \n",
       "1            T2   C2142763      4/4/57          M      JHAJJAR   \n",
       "2            T3   C4417068    26/11/96          F       MUMBAI   \n",
       "3            T4   C5342380     14/9/73          F       MUMBAI   \n",
       "4            T5   C9031234     24/3/88          F  NAVI MUMBAI   \n",
       "\n",
       "   CustAccountBalance TransactionDate  TransactionTime  \\\n",
       "0              17,819          2/8/16           143207   \n",
       "1               2,271          2/8/16           141858   \n",
       "2              17,874          2/8/16           142712   \n",
       "3             866,503          2/8/16           142714   \n",
       "4               6,714          2/8/16           181156   \n",
       "\n",
       "   TransactionAmount (INR)  \n",
       "0                       25  \n",
       "1                   27,999  \n",
       "2                      459  \n",
       "3                    2,060  \n",
       "4                    1,762  "
      ]
     },
     "execution_count": 22,
     "metadata": {},
     "output_type": "execute_result"
    }
   ],
   "source": [
    "df.head(5) # Display the first few rows"
   ]
  },
  {
   "cell_type": "markdown",
   "id": "29febf29",
   "metadata": {
    "papermill": {
     "duration": 0.008505,
     "end_time": "2024-12-04T13:21:16.687787",
     "exception": false,
     "start_time": "2024-12-04T13:21:16.679282",
     "status": "completed"
    },
    "tags": []
   },
   "source": [
    "#### Key Information:\n",
    "- **TransactionID**: Unique identifier for each transaction (e.g., T1, T2).\n",
    "- **CustomerID**: Unique identifier for each customer (e.g., C5841053).\n",
    "- **CustomerDOB**: Customer's date of birth (e.g., 10/1/94).\n",
    "- **CustGender**: Customer's gender (F = Female, M = Male).\n",
    "- **CustLocation**: Location of the customer (e.g., JAMSHEDPUR, MUMBAI).\n",
    "- **CustAccountBalance**: The balance in the customer's account (e.g., ₹17,819.05).\n",
    "- **TransactionDate**: Date the transaction occurred (e.g., 2/8/16).\n",
    "- **TransactionTime**: Time of the transaction in integer format (e.g., 143207).\n",
    "- **TransactionAmount (INR)**: The amount transacted in Indian Rupees (e.g., ₹25.0).\n",
    "\n",
    "This preview provides insight into the structure of the data, with details on customer and transaction attributes."
   ]
  },
  {
   "cell_type": "markdown",
   "id": "e8119c93",
   "metadata": {
    "papermill": {
     "duration": 0.008315,
     "end_time": "2024-12-04T13:21:16.704499",
     "exception": false,
     "start_time": "2024-12-04T13:21:16.696184",
     "status": "completed"
    },
    "tags": []
   },
   "source": [
    "## Data Cleaning"
   ]
  },
  {
   "cell_type": "code",
   "execution_count": 23,
   "id": "4efa7463",
   "metadata": {
    "papermill": {
     "duration": 1.077493,
     "end_time": "2024-12-04T13:21:17.790465",
     "exception": false,
     "start_time": "2024-12-04T13:21:16.712972",
     "status": "completed"
    },
    "tags": []
   },
   "outputs": [
    {
     "data": {
      "text/html": [
       "<div>\n",
       "<style scoped>\n",
       "    .dataframe tbody tr th:only-of-type {\n",
       "        vertical-align: middle;\n",
       "    }\n",
       "\n",
       "    .dataframe tbody tr th {\n",
       "        vertical-align: top;\n",
       "    }\n",
       "\n",
       "    .dataframe thead th {\n",
       "        text-align: right;\n",
       "    }\n",
       "</style>\n",
       "<table border=\"1\" class=\"dataframe\">\n",
       "  <thead>\n",
       "    <tr style=\"text-align: right;\">\n",
       "      <th></th>\n",
       "      <th>column</th>\n",
       "      <th>dtypes</th>\n",
       "      <th>nunique</th>\n",
       "      <th>sum_null</th>\n",
       "    </tr>\n",
       "  </thead>\n",
       "  <tbody>\n",
       "    <tr>\n",
       "      <th>0</th>\n",
       "      <td>TransactionID</td>\n",
       "      <td>object</td>\n",
       "      <td>1048567</td>\n",
       "      <td>0</td>\n",
       "    </tr>\n",
       "    <tr>\n",
       "      <th>1</th>\n",
       "      <td>CustomerID</td>\n",
       "      <td>object</td>\n",
       "      <td>884265</td>\n",
       "      <td>0</td>\n",
       "    </tr>\n",
       "    <tr>\n",
       "      <th>2</th>\n",
       "      <td>CustomerDOB</td>\n",
       "      <td>object</td>\n",
       "      <td>17254</td>\n",
       "      <td>3397</td>\n",
       "    </tr>\n",
       "    <tr>\n",
       "      <th>3</th>\n",
       "      <td>CustGender</td>\n",
       "      <td>object</td>\n",
       "      <td>3</td>\n",
       "      <td>1100</td>\n",
       "    </tr>\n",
       "    <tr>\n",
       "      <th>4</th>\n",
       "      <td>CustLocation</td>\n",
       "      <td>object</td>\n",
       "      <td>9355</td>\n",
       "      <td>151</td>\n",
       "    </tr>\n",
       "    <tr>\n",
       "      <th>5</th>\n",
       "      <td>CustAccountBalance</td>\n",
       "      <td>float64</td>\n",
       "      <td>161328</td>\n",
       "      <td>2369</td>\n",
       "    </tr>\n",
       "    <tr>\n",
       "      <th>6</th>\n",
       "      <td>TransactionDate</td>\n",
       "      <td>object</td>\n",
       "      <td>55</td>\n",
       "      <td>0</td>\n",
       "    </tr>\n",
       "    <tr>\n",
       "      <th>7</th>\n",
       "      <td>TransactionTime</td>\n",
       "      <td>int64</td>\n",
       "      <td>81918</td>\n",
       "      <td>0</td>\n",
       "    </tr>\n",
       "    <tr>\n",
       "      <th>8</th>\n",
       "      <td>TransactionAmount (INR)</td>\n",
       "      <td>float64</td>\n",
       "      <td>93024</td>\n",
       "      <td>0</td>\n",
       "    </tr>\n",
       "  </tbody>\n",
       "</table>\n",
       "</div>"
      ],
      "text/plain": [
       "                    column   dtypes  nunique  sum_null\n",
       "0            TransactionID   object  1048567         0\n",
       "1               CustomerID   object   884265         0\n",
       "2              CustomerDOB   object    17254      3397\n",
       "3               CustGender   object        3      1100\n",
       "4             CustLocation   object     9355       151\n",
       "5       CustAccountBalance  float64   161328      2369\n",
       "6          TransactionDate   object       55         0\n",
       "7          TransactionTime    int64    81918         0\n",
       "8  TransactionAmount (INR)  float64    93024         0"
      ]
     },
     "execution_count": 23,
     "metadata": {},
     "output_type": "execute_result"
    }
   ],
   "source": [
    "## Show detailes data set\n",
    "def check(df):\n",
    "    list=[]\n",
    "    columns=df.columns\n",
    "    for col in columns:\n",
    "        dtypes=df[col].dtypes\n",
    "        nunique=df[col].nunique()\n",
    "        sum_null=df[col].isnull().sum()\n",
    "        list.append([col,dtypes,nunique,sum_null])\n",
    "    df_clean_details=pd.DataFrame(list)\n",
    "    df_clean_details.columns=['column','dtypes','nunique','sum_null']\n",
    "    return df_clean_details \n",
    "    \n",
    "check(df)"
   ]
  },
  {
   "cell_type": "markdown",
   "id": "3ecba90b",
   "metadata": {
    "papermill": {
     "duration": 0.008628,
     "end_time": "2024-12-04T13:21:17.808414",
     "exception": false,
     "start_time": "2024-12-04T13:21:17.799786",
     "status": "completed"
    },
    "tags": []
   },
   "source": [
    "### Data Summary\n",
    "\n",
    "This dataset contains customer transaction information with the following details:\n",
    "\n",
    "#### Key Insights:\n",
    "- **Missing Values**: Some columns have missing values, particularly **CustomerDOB**, **CustGender**, **CustLocation**, and **CustAccountBalance**. These need to be handled by filling in missing data or removing rows with critical missing values.\n",
    "- **Duplicates**: There may be duplicate rows based on **TransactionID** and **CustomerID**.\n",
    "- **Data Types**: Some columns (e.g., **TransactionTime**) may need type conversion for consistency.\n",
    "\n",
    "#### Cleaning Approach:\n",
    "- Fill missing values with the most frequent or mean values where appropriate.\n",
    "- Remove duplicates and handle invalid date formats.\n",
    "- Ensure proper data types for consistency (e.g., converting **TransactionTime** to integer).\n",
    "- Remove negative transaction amounts as they may represent errors."
   ]
  },
  {
   "cell_type": "markdown",
   "id": "e9c9d354",
   "metadata": {
    "papermill": {
     "duration": 0.00854,
     "end_time": "2024-12-04T13:21:17.825733",
     "exception": false,
     "start_time": "2024-12-04T13:21:17.817193",
     "status": "completed"
    },
    "tags": []
   },
   "source": [
    "### Fill missing values"
   ]
  },
  {
   "cell_type": "code",
   "execution_count": 24,
   "id": "05ea17bc",
   "metadata": {
    "papermill": {
     "duration": 0.018696,
     "end_time": "2024-12-04T13:21:17.853030",
     "exception": false,
     "start_time": "2024-12-04T13:21:17.834334",
     "status": "completed"
    },
    "tags": []
   },
   "outputs": [
    {
     "data": {
      "text/plain": [
       "(1048567, 9)"
      ]
     },
     "execution_count": 24,
     "metadata": {},
     "output_type": "execute_result"
    }
   ],
   "source": [
    "df.shape"
   ]
  },
  {
   "cell_type": "code",
   "execution_count": 6,
   "id": "dadb8440",
   "metadata": {
    "papermill": {
     "duration": 0.544068,
     "end_time": "2024-12-04T13:21:18.406109",
     "exception": false,
     "start_time": "2024-12-04T13:21:17.862041",
     "status": "completed"
    },
    "tags": []
   },
   "outputs": [],
   "source": [
    "# 1. Handle missing values\n",
    "df['CustomerDOB'] = df['CustomerDOB'].fillna(df['CustomerDOB'].mode()[0])  # Fill missing DOB with the most frequent value\n",
    "df['CustGender'] = df['CustGender'].fillna(df['CustGender'].mode()[0])  # Fill missing gender with the most frequent value\n",
    "df['CustLocation'] = df['CustLocation'].fillna(df['CustLocation'].mode()[0])  # Fill missing location with the most frequent value\n",
    "df['CustAccountBalance'] = df['CustAccountBalance'].fillna(df['CustAccountBalance'].mean())  # Fill missing balance with mean value\n"
   ]
  },
  {
   "cell_type": "markdown",
   "id": "97ac8c99",
   "metadata": {
    "papermill": {
     "duration": 0.008474,
     "end_time": "2024-12-04T13:21:18.423621",
     "exception": false,
     "start_time": "2024-12-04T13:21:18.415147",
     "status": "completed"
    },
    "tags": []
   },
   "source": [
    "###  Remove duplicate rows based on TransactionID and CustomerID"
   ]
  },
  {
   "cell_type": "code",
   "execution_count": 25,
   "id": "529067a4",
   "metadata": {
    "papermill": {
     "duration": 0.882123,
     "end_time": "2024-12-04T13:21:19.314370",
     "exception": false,
     "start_time": "2024-12-04T13:21:18.432247",
     "status": "completed"
    },
    "tags": []
   },
   "outputs": [],
   "source": [
    "df = df.drop_duplicates(subset=['TransactionID', 'CustomerID'])"
   ]
  },
  {
   "cell_type": "markdown",
   "id": "47fbfbe4",
   "metadata": {
    "papermill": {
     "duration": 0.0116,
     "end_time": "2024-12-04T13:21:19.336226",
     "exception": false,
     "start_time": "2024-12-04T13:21:19.324626",
     "status": "completed"
    },
    "tags": []
   },
   "source": [
    "### Remove rows with any remaining missing values in critical columns"
   ]
  },
  {
   "cell_type": "code",
   "execution_count": 27,
   "id": "4d502a0d",
   "metadata": {
    "papermill": {
     "duration": 0.359705,
     "end_time": "2024-12-04T13:21:19.705317",
     "exception": false,
     "start_time": "2024-12-04T13:21:19.345612",
     "status": "completed"
    },
    "tags": []
   },
   "outputs": [
    {
     "data": {
      "text/plain": [
       "(1043982, 9)"
      ]
     },
     "execution_count": 27,
     "metadata": {},
     "output_type": "execute_result"
    }
   ],
   "source": [
    "\n",
    "df = df.dropna(subset=['CustomerDOB', 'CustGender', 'CustLocation', 'TransactionDate'])\n",
    "df.shape"
   ]
  },
  {
   "cell_type": "markdown",
   "id": "8123132a",
   "metadata": {
    "papermill": {
     "duration": 0.009187,
     "end_time": "2024-12-04T13:21:19.723932",
     "exception": false,
     "start_time": "2024-12-04T13:21:19.714745",
     "status": "completed"
    },
    "tags": []
   },
   "source": [
    "###  Converted to `datetime` format, invalid entries become `NaT` and we will remove that easily"
   ]
  },
  {
   "cell_type": "code",
   "execution_count": 28,
   "id": "bf04f1db",
   "metadata": {
    "papermill": {
     "duration": 0.020958,
     "end_time": "2024-12-04T13:21:19.754033",
     "exception": false,
     "start_time": "2024-12-04T13:21:19.733075",
     "status": "completed"
    },
    "tags": []
   },
   "outputs": [],
   "source": [
    "# 5. Convert columns to appropriate types'\n",
    "df['TransactionTime'] = df['TransactionTime'].astype(int)  # Ensure TransactionTime is integerp\n"
   ]
  },
  {
   "cell_type": "markdown",
   "id": "15004c68",
   "metadata": {
    "papermill": {
     "duration": 0.008878,
     "end_time": "2024-12-04T13:21:19.771976",
     "exception": false,
     "start_time": "2024-12-04T13:21:19.763098",
     "status": "completed"
    },
    "tags": []
   },
   "source": [
    "###  Ensure 'TransactionAmount (INR)' is a positive value"
   ]
  },
  {
   "cell_type": "code",
   "execution_count": 29,
   "id": "c3c0a31e",
   "metadata": {
    "papermill": {
     "duration": 0.116278,
     "end_time": "2024-12-04T13:21:19.897101",
     "exception": false,
     "start_time": "2024-12-04T13:21:19.780823",
     "status": "completed"
    },
    "tags": []
   },
   "outputs": [],
   "source": [
    "\n",
    "df = df[df['TransactionAmount (INR)'] >= 0]  # Remove rows where transaction amount is negative\n"
   ]
  },
  {
   "cell_type": "code",
   "execution_count": 30,
   "id": "4e083ed2",
   "metadata": {
    "papermill": {
     "duration": 0.07572,
     "end_time": "2024-12-04T13:21:19.982028",
     "exception": false,
     "start_time": "2024-12-04T13:21:19.906308",
     "status": "completed"
    },
    "tags": []
   },
   "outputs": [
    {
     "data": {
      "text/plain": [
       "CustGender\n",
       "M    762682\n",
       "F    281299\n",
       "T         1\n",
       "Name: count, dtype: int64"
      ]
     },
     "execution_count": 30,
     "metadata": {},
     "output_type": "execute_result"
    }
   ],
   "source": [
    "df['CustGender'].value_counts()"
   ]
  },
  {
   "cell_type": "code",
   "execution_count": 31,
   "id": "f955fe87",
   "metadata": {
    "papermill": {
     "duration": 0.268963,
     "end_time": "2024-12-04T13:21:20.260092",
     "exception": false,
     "start_time": "2024-12-04T13:21:19.991129",
     "status": "completed"
    },
    "tags": []
   },
   "outputs": [],
   "source": [
    "df.drop(df[df['CustGender']=='T'].index,inplace=True)\n"
   ]
  },
  {
   "cell_type": "code",
   "execution_count": 33,
   "id": "f62eb6d4-8eca-4007-8187-4d6a4a4ecc9f",
   "metadata": {},
   "outputs": [
    {
     "name": "stderr",
     "output_type": "stream",
     "text": [
      "C:\\Users\\Admin\\AppData\\Local\\Temp\\ipykernel_6316\\3160566642.py:1: UserWarning: Could not infer format, so each element will be parsed individually, falling back to `dateutil`. To ensure parsing is consistent and as-expected, please specify a format.\n",
      "  df['TransactionDate'] = pd.to_datetime(df['TransactionDate'], errors='coerce')\n",
      "C:\\Users\\Admin\\AppData\\Local\\Temp\\ipykernel_6316\\3160566642.py:2: UserWarning: Could not infer format, so each element will be parsed individually, falling back to `dateutil`. To ensure parsing is consistent and as-expected, please specify a format.\n",
      "  df['CustomerDOB'] = pd.to_datetime(df['CustomerDOB'], errors='coerce')\n"
     ]
    }
   ],
   "source": [
    "df['TransactionDate'] = pd.to_datetime(df['TransactionDate'], errors='coerce')\n",
    "df['CustomerDOB'] = pd.to_datetime(df['CustomerDOB'], errors='coerce')\n"
   ]
  },
  {
   "cell_type": "code",
   "execution_count": 34,
   "id": "a195fdf5-3de5-467b-a0ea-cf8d869371eb",
   "metadata": {},
   "outputs": [
    {
     "name": "stdout",
     "output_type": "stream",
     "text": [
      "0\n",
      "0\n"
     ]
    }
   ],
   "source": [
    "print(df['TransactionDate'].isnull().sum())\n",
    "print(df['CustomerDOB'].isnull().sum())\n"
   ]
  },
  {
   "cell_type": "code",
   "execution_count": 36,
   "id": "7a09b9d8",
   "metadata": {
    "papermill": {
     "duration": 0.229288,
     "end_time": "2024-12-04T13:22:08.924023",
     "exception": false,
     "start_time": "2024-12-04T13:22:08.694735",
     "status": "completed"
    },
    "tags": []
   },
   "outputs": [
    {
     "data": {
      "text/plain": [
       "array([ 22,  20,  28,  24,  34,  32,  38, 216,  27,  25,  31,  23,  30,\n",
       "        37,  39,  19,  33,  26,  36,  35,  29,  41,  21,  42,  17,  40,\n",
       "        12,  18,  16,  14,   9,  15,   3,  13,  11,   6,   5,   7,   1,\n",
       "        10,   8,   4,   2])"
      ]
     },
     "execution_count": 36,
     "metadata": {},
     "output_type": "execute_result"
    }
   ],
   "source": [
    "df['CustomerAge'] =df['TransactionDate'].dt.year - df['CustomerDOB'].dt.year\n",
    "df = df[df['CustomerAge'] > 0]\n",
    "df['CustomerAge'].unique()"
   ]
  },
  {
   "cell_type": "markdown",
   "id": "27e250dd",
   "metadata": {
    "papermill": {
     "duration": 0.008743,
     "end_time": "2024-12-04T13:22:08.942075",
     "exception": false,
     "start_time": "2024-12-04T13:22:08.933332",
     "status": "completed"
    },
    "tags": []
   },
   "source": [
    "### remove the outliers\n"
   ]
  },
  {
   "cell_type": "code",
   "execution_count": 37,
   "id": "708e175a",
   "metadata": {
    "papermill": {
     "duration": 0.367388,
     "end_time": "2024-12-04T13:22:09.318515",
     "exception": false,
     "start_time": "2024-12-04T13:22:08.951127",
     "status": "completed"
    },
    "tags": []
   },
   "outputs": [],
   "source": [
    "import numpy as np\n",
    "\n",
    "\n",
    "# Define the columns to check for outliers\n",
    "columns_to_check = ['CustAccountBalance', 'TransactionAmount (INR)', 'CustomerAge']\n",
    "\n",
    "# Remove outliers using IQR\n",
    "for column in columns_to_check:\n",
    "    Q1 = df[column].quantile(0.25)  # 25th percentile\n",
    "    Q3 = df[column].quantile(0.75)  # 75th percentile\n",
    "    IQR = Q3 - Q1  # Interquartile range\n",
    "    lower_bound = Q1 - 1.5 * IQR\n",
    "    upper_bound = Q3 + 1.5 * IQR\n",
    "    # Filter the dataset to remove outliers\n",
    "    df = df[(df[column] >= lower_bound) & (df[column] <= upper_bound)]\n"
   ]
  },
  {
   "cell_type": "code",
   "execution_count": 38,
   "id": "dbb412e9",
   "metadata": {
    "papermill": {
     "duration": 0.165233,
     "end_time": "2024-12-04T13:22:09.493280",
     "exception": false,
     "start_time": "2024-12-04T13:22:09.328047",
     "status": "completed"
    },
    "tags": []
   },
   "outputs": [
    {
     "name": "stdout",
     "output_type": "stream",
     "text": [
      "<class 'pandas.core.frame.DataFrame'>\n",
      "Index: 709915 entries, 0 to 1048566\n",
      "Data columns (total 10 columns):\n",
      " #   Column                   Non-Null Count   Dtype         \n",
      "---  ------                   --------------   -----         \n",
      " 0   TransactionID            709915 non-null  object        \n",
      " 1   CustomerID               709915 non-null  object        \n",
      " 2   CustomerDOB              709915 non-null  datetime64[ns]\n",
      " 3   CustGender               709915 non-null  object        \n",
      " 4   CustLocation             709915 non-null  object        \n",
      " 5   CustAccountBalance       709915 non-null  float64       \n",
      " 6   TransactionDate          709915 non-null  datetime64[ns]\n",
      " 7   TransactionTime          709915 non-null  int32         \n",
      " 8   TransactionAmount (INR)  709915 non-null  float64       \n",
      " 9   CustomerAge              709915 non-null  int32         \n",
      "dtypes: datetime64[ns](2), float64(2), int32(2), object(4)\n",
      "memory usage: 54.2+ MB\n"
     ]
    }
   ],
   "source": [
    "df.info()"
   ]
  },
  {
   "cell_type": "code",
   "execution_count": 39,
   "id": "cc8cbabd",
   "metadata": {
    "papermill": {
     "duration": 0.101859,
     "end_time": "2024-12-04T13:22:09.604453",
     "exception": false,
     "start_time": "2024-12-04T13:22:09.502594",
     "status": "completed"
    },
    "tags": []
   },
   "outputs": [],
   "source": [
    "# Code to Convert 'CustGender' and 'CustLocation' to Numeric Format\n",
    "\n",
    "# Converting 'CustGender' to numeric format (F = 0, M = 1)\n",
    "df['CustGender'] = df['CustGender'].map({'F': 0, 'M': 1})\n",
    "\n",
    "# Converting 'CustLocation' to numeric format using label encoding\n",
    "df['CustLocation'] = pd.factorize(df['CustLocation'])[0]\n"
   ]
  },
  {
   "cell_type": "markdown",
   "id": "e5825b38",
   "metadata": {
    "papermill": {
     "duration": 0.008951,
     "end_time": "2024-12-04T13:22:09.622924",
     "exception": false,
     "start_time": "2024-12-04T13:22:09.613973",
     "status": "completed"
    },
    "tags": []
   },
   "source": [
    "### Conversion of Categorical Columns to Numeric Format\n",
    "\n",
    "1. **CustGender**: \n",
    "   - Originally a categorical column with values **F** (Female) and **M** (Male).\n",
    "   - Converted to numeric format:\n",
    "     - **F** (Female) is mapped to **0**.\n",
    "     - **M** (Male) is mapped to **1**.\n",
    "   - This conversion helps in numerical analysis or machine learning models.\n",
    "\n",
    "2. **CustLocation**: \n",
    "   - Originally a categorical column with customer location names (e.g., JAMSHEDPUR, MUMBAI).\n",
    "   - Converted to numeric format using **Label Encoding** where each unique location is assigned a unique integer.\n",
    "     - **Factorize** function is used to map each location to a unique integer.\n",
    "   - This makes the location data suitable for machine learning models, where categorical data needs to be represented as numbers.\n",
    "\n",
    "### Benefits of Conversion:\n",
    "- **Machine Learning Compatibility**: Algorithms like regression, classification, and clustering require numerical input.\n",
    "- **Data Consistency**: Numeric values can be more easily processed and analyzed."
   ]
  },
  {
   "cell_type": "code",
   "execution_count": 40,
   "id": "8f150a54",
   "metadata": {
    "papermill": {
     "duration": 0.108818,
     "end_time": "2024-12-04T13:22:09.741077",
     "exception": false,
     "start_time": "2024-12-04T13:22:09.632259",
     "status": "completed"
    },
    "tags": []
   },
   "outputs": [
    {
     "name": "stdout",
     "output_type": "stream",
     "text": [
      "<class 'pandas.core.frame.DataFrame'>\n",
      "RangeIndex: 709915 entries, 0 to 709914\n",
      "Data columns (total 10 columns):\n",
      " #   Column                   Non-Null Count   Dtype         \n",
      "---  ------                   --------------   -----         \n",
      " 0   TransactionID            709915 non-null  object        \n",
      " 1   CustomerID               709915 non-null  object        \n",
      " 2   CustomerDOB              709915 non-null  datetime64[ns]\n",
      " 3   CustGender               709915 non-null  int64         \n",
      " 4   CustLocation             709915 non-null  int64         \n",
      " 5   CustAccountBalance       709915 non-null  float64       \n",
      " 6   TransactionDate          709915 non-null  datetime64[ns]\n",
      " 7   TransactionTime          709915 non-null  int32         \n",
      " 8   TransactionAmount (INR)  709915 non-null  float64       \n",
      " 9   CustomerAge              709915 non-null  int32         \n",
      "dtypes: datetime64[ns](2), float64(2), int32(2), int64(2), object(2)\n",
      "memory usage: 48.7+ MB\n"
     ]
    },
    {
     "data": {
      "text/plain": [
       "array([22, 20, 28, 24, 34, 32, 38, 27, 25, 31, 23, 30, 39, 33, 36, 35, 29,\n",
       "       26, 41, 21, 42, 37, 17, 19, 40, 18, 16, 15])"
      ]
     },
     "execution_count": 40,
     "metadata": {},
     "output_type": "execute_result"
    }
   ],
   "source": [
    "# 7. Reset index after cleaning\n",
    "df.reset_index(drop=True, inplace=True)\n",
    "df.info()\n",
    "df['CustomerAge'].unique()"
   ]
  },
  {
   "cell_type": "markdown",
   "id": "ab074595",
   "metadata": {
    "papermill": {
     "duration": 0.009007,
     "end_time": "2024-12-04T13:22:09.759553",
     "exception": false,
     "start_time": "2024-12-04T13:22:09.750546",
     "status": "completed"
    },
    "tags": []
   },
   "source": [
    "## Feature Engineering Explanation\n",
    "\n",
    "### 1. Transaction Frequency, Total, and Average per Customer:\n",
    "- **Purpose**: Helps identify different customer types (e.g., high spenders, frequent users).\n",
    "- **Usefulness**: \n",
    "  - Useful for targeted marketing and personalized services.\n",
    "  - Helps optimize customer engagement and loyalty programs.\n",
    "\n",
    "### 2. Recency (Days since last transaction):\n",
    "- **Purpose**: Measures customer engagement and helps predict churn.\n",
    "- **Usefulness**:\n",
    "  - Allows for targeted re-engagement strategies.\n",
    "  - Identifies customers who are at risk of becoming inactive.\n",
    "\n",
    "### 3. Age:\n",
    "- **Purpose**: Provides demographic insights for segmentation.\n",
    "- **Usefulness**:\n",
    "  - Helps tailor offers based on customer age groups.\n",
    "  - Useful for personalizing financial products and services.\n",
    "\n",
    "### Summary:\n",
    "- These features enable **customer segmentation**, **targeted marketing**, and improved **customer relationship management**."
   ]
  },
  {
   "cell_type": "code",
   "execution_count": 41,
   "id": "0786c5c3",
   "metadata": {
    "papermill": {
     "duration": 8.703385,
     "end_time": "2024-12-04T13:22:18.472451",
     "exception": false,
     "start_time": "2024-12-04T13:22:09.769066",
     "status": "completed"
    },
    "tags": []
   },
   "outputs": [],
   "source": [
    "from datetime import datetime\n",
    "\n",
    "# Calculate transaction frequency, total, and average per customer\n",
    "transaction_summary = df.groupby('CustomerID').agg({\n",
    "    'TransactionAmount (INR)': ['count', 'sum', 'mean'],\n",
    "    'TransactionDate': 'max'\n",
    "}).reset_index()\n",
    "\n",
    "# Flatten the MultiIndex columns\n",
    "transaction_summary.columns = ['CustomerID', 'TransactionCount', 'TotalAmount', 'AverageAmount', 'LastTransactionDate']\n",
    "\n",
    "# Add recency (days since last transaction)\n",
    "transaction_summary['Recency'] = transaction_summary['LastTransactionDate'].apply(\n",
    "    lambda date: (datetime.now() - pd.to_datetime(date)).days\n",
    ")\n",
    "\n",
    "# You already have CustomerAge column, so use it directly\n",
    "# No need to calculate Age if it's already in the dataset\n",
    "transaction_summary['Age'] = df.groupby('CustomerID')['CustomerAge'].first().values\n",
    "\n"
   ]
  },
  {
   "cell_type": "code",
   "execution_count": 42,
   "id": "14d018e6",
   "metadata": {
    "papermill": {
     "duration": 0.029971,
     "end_time": "2024-12-04T13:22:18.511986",
     "exception": false,
     "start_time": "2024-12-04T13:22:18.482015",
     "status": "completed"
    },
    "tags": []
   },
   "outputs": [
    {
     "data": {
      "text/html": [
       "<div>\n",
       "<style scoped>\n",
       "    .dataframe tbody tr th:only-of-type {\n",
       "        vertical-align: middle;\n",
       "    }\n",
       "\n",
       "    .dataframe tbody tr th {\n",
       "        vertical-align: top;\n",
       "    }\n",
       "\n",
       "    .dataframe thead th {\n",
       "        text-align: right;\n",
       "    }\n",
       "</style>\n",
       "<table border=\"1\" class=\"dataframe\">\n",
       "  <thead>\n",
       "    <tr style=\"text-align: right;\">\n",
       "      <th></th>\n",
       "      <th>CustomerID</th>\n",
       "      <th>TransactionCount</th>\n",
       "      <th>TotalAmount</th>\n",
       "      <th>AverageAmount</th>\n",
       "      <th>LastTransactionDate</th>\n",
       "      <th>Recency</th>\n",
       "      <th>Age</th>\n",
       "    </tr>\n",
       "  </thead>\n",
       "  <tbody>\n",
       "    <tr>\n",
       "      <th>0</th>\n",
       "      <td>C1010011</td>\n",
       "      <td>1</td>\n",
       "      <td>356</td>\n",
       "      <td>356</td>\n",
       "      <td>2016-09-08</td>\n",
       "      <td>3027</td>\n",
       "      <td>33</td>\n",
       "    </tr>\n",
       "    <tr>\n",
       "      <th>1</th>\n",
       "      <td>C1010012</td>\n",
       "      <td>1</td>\n",
       "      <td>1,499</td>\n",
       "      <td>1,499</td>\n",
       "      <td>2016-08-14</td>\n",
       "      <td>3052</td>\n",
       "      <td>22</td>\n",
       "    </tr>\n",
       "    <tr>\n",
       "      <th>2</th>\n",
       "      <td>C1010014</td>\n",
       "      <td>1</td>\n",
       "      <td>1,205</td>\n",
       "      <td>1,205</td>\n",
       "      <td>2016-01-08</td>\n",
       "      <td>3271</td>\n",
       "      <td>24</td>\n",
       "    </tr>\n",
       "    <tr>\n",
       "      <th>3</th>\n",
       "      <td>C1010018</td>\n",
       "      <td>1</td>\n",
       "      <td>30</td>\n",
       "      <td>30</td>\n",
       "      <td>2016-09-15</td>\n",
       "      <td>3020</td>\n",
       "      <td>26</td>\n",
       "    </tr>\n",
       "    <tr>\n",
       "      <th>4</th>\n",
       "      <td>C1010031</td>\n",
       "      <td>2</td>\n",
       "      <td>1,864</td>\n",
       "      <td>932</td>\n",
       "      <td>2016-04-08</td>\n",
       "      <td>3180</td>\n",
       "      <td>32</td>\n",
       "    </tr>\n",
       "    <tr>\n",
       "      <th>5</th>\n",
       "      <td>C1010035</td>\n",
       "      <td>1</td>\n",
       "      <td>50</td>\n",
       "      <td>50</td>\n",
       "      <td>2016-01-08</td>\n",
       "      <td>3271</td>\n",
       "      <td>24</td>\n",
       "    </tr>\n",
       "    <tr>\n",
       "      <th>6</th>\n",
       "      <td>C1010038</td>\n",
       "      <td>1</td>\n",
       "      <td>100</td>\n",
       "      <td>100</td>\n",
       "      <td>2016-07-09</td>\n",
       "      <td>3088</td>\n",
       "      <td>24</td>\n",
       "    </tr>\n",
       "    <tr>\n",
       "      <th>7</th>\n",
       "      <td>C1010039</td>\n",
       "      <td>1</td>\n",
       "      <td>915</td>\n",
       "      <td>915</td>\n",
       "      <td>2016-02-09</td>\n",
       "      <td>3239</td>\n",
       "      <td>18</td>\n",
       "    </tr>\n",
       "    <tr>\n",
       "      <th>8</th>\n",
       "      <td>C1010041</td>\n",
       "      <td>1</td>\n",
       "      <td>20</td>\n",
       "      <td>20</td>\n",
       "      <td>2016-07-09</td>\n",
       "      <td>3088</td>\n",
       "      <td>24</td>\n",
       "    </tr>\n",
       "    <tr>\n",
       "      <th>9</th>\n",
       "      <td>C1010045</td>\n",
       "      <td>1</td>\n",
       "      <td>201</td>\n",
       "      <td>201</td>\n",
       "      <td>2016-08-18</td>\n",
       "      <td>3048</td>\n",
       "      <td>29</td>\n",
       "    </tr>\n",
       "    <tr>\n",
       "      <th>10</th>\n",
       "      <td>C1010046</td>\n",
       "      <td>1</td>\n",
       "      <td>861</td>\n",
       "      <td>861</td>\n",
       "      <td>2016-08-14</td>\n",
       "      <td>3052</td>\n",
       "      <td>24</td>\n",
       "    </tr>\n",
       "    <tr>\n",
       "      <th>11</th>\n",
       "      <td>C1010050</td>\n",
       "      <td>1</td>\n",
       "      <td>248</td>\n",
       "      <td>248</td>\n",
       "      <td>2016-08-13</td>\n",
       "      <td>3053</td>\n",
       "      <td>28</td>\n",
       "    </tr>\n",
       "    <tr>\n",
       "      <th>12</th>\n",
       "      <td>C1010065</td>\n",
       "      <td>1</td>\n",
       "      <td>500</td>\n",
       "      <td>500</td>\n",
       "      <td>2016-08-28</td>\n",
       "      <td>3038</td>\n",
       "      <td>31</td>\n",
       "    </tr>\n",
       "    <tr>\n",
       "      <th>13</th>\n",
       "      <td>C1010066</td>\n",
       "      <td>1</td>\n",
       "      <td>1,200</td>\n",
       "      <td>1,200</td>\n",
       "      <td>2016-06-08</td>\n",
       "      <td>3119</td>\n",
       "      <td>23</td>\n",
       "    </tr>\n",
       "    <tr>\n",
       "      <th>14</th>\n",
       "      <td>C1010068</td>\n",
       "      <td>1</td>\n",
       "      <td>546</td>\n",
       "      <td>546</td>\n",
       "      <td>2016-10-08</td>\n",
       "      <td>2997</td>\n",
       "      <td>40</td>\n",
       "    </tr>\n",
       "    <tr>\n",
       "      <th>15</th>\n",
       "      <td>C1010075</td>\n",
       "      <td>1</td>\n",
       "      <td>350</td>\n",
       "      <td>350</td>\n",
       "      <td>2016-09-15</td>\n",
       "      <td>3020</td>\n",
       "      <td>35</td>\n",
       "    </tr>\n",
       "    <tr>\n",
       "      <th>16</th>\n",
       "      <td>C1010081</td>\n",
       "      <td>2</td>\n",
       "      <td>2,128</td>\n",
       "      <td>1,064</td>\n",
       "      <td>2016-08-15</td>\n",
       "      <td>3051</td>\n",
       "      <td>39</td>\n",
       "    </tr>\n",
       "    <tr>\n",
       "      <th>17</th>\n",
       "      <td>C1010087</td>\n",
       "      <td>1</td>\n",
       "      <td>42</td>\n",
       "      <td>42</td>\n",
       "      <td>2016-11-08</td>\n",
       "      <td>2966</td>\n",
       "      <td>26</td>\n",
       "    </tr>\n",
       "    <tr>\n",
       "      <th>18</th>\n",
       "      <td>C1010089</td>\n",
       "      <td>2</td>\n",
       "      <td>1,558</td>\n",
       "      <td>779</td>\n",
       "      <td>2016-08-30</td>\n",
       "      <td>3036</td>\n",
       "      <td>34</td>\n",
       "    </tr>\n",
       "    <tr>\n",
       "      <th>19</th>\n",
       "      <td>C1010113</td>\n",
       "      <td>1</td>\n",
       "      <td>560</td>\n",
       "      <td>560</td>\n",
       "      <td>2016-05-09</td>\n",
       "      <td>3149</td>\n",
       "      <td>28</td>\n",
       "    </tr>\n",
       "  </tbody>\n",
       "</table>\n",
       "</div>"
      ],
      "text/plain": [
       "   CustomerID  TransactionCount  TotalAmount  AverageAmount  \\\n",
       "0    C1010011                 1          356            356   \n",
       "1    C1010012                 1        1,499          1,499   \n",
       "2    C1010014                 1        1,205          1,205   \n",
       "3    C1010018                 1           30             30   \n",
       "4    C1010031                 2        1,864            932   \n",
       "5    C1010035                 1           50             50   \n",
       "6    C1010038                 1          100            100   \n",
       "7    C1010039                 1          915            915   \n",
       "8    C1010041                 1           20             20   \n",
       "9    C1010045                 1          201            201   \n",
       "10   C1010046                 1          861            861   \n",
       "11   C1010050                 1          248            248   \n",
       "12   C1010065                 1          500            500   \n",
       "13   C1010066                 1        1,200          1,200   \n",
       "14   C1010068                 1          546            546   \n",
       "15   C1010075                 1          350            350   \n",
       "16   C1010081                 2        2,128          1,064   \n",
       "17   C1010087                 1           42             42   \n",
       "18   C1010089                 2        1,558            779   \n",
       "19   C1010113                 1          560            560   \n",
       "\n",
       "   LastTransactionDate  Recency  Age  \n",
       "0           2016-09-08     3027   33  \n",
       "1           2016-08-14     3052   22  \n",
       "2           2016-01-08     3271   24  \n",
       "3           2016-09-15     3020   26  \n",
       "4           2016-04-08     3180   32  \n",
       "5           2016-01-08     3271   24  \n",
       "6           2016-07-09     3088   24  \n",
       "7           2016-02-09     3239   18  \n",
       "8           2016-07-09     3088   24  \n",
       "9           2016-08-18     3048   29  \n",
       "10          2016-08-14     3052   24  \n",
       "11          2016-08-13     3053   28  \n",
       "12          2016-08-28     3038   31  \n",
       "13          2016-06-08     3119   23  \n",
       "14          2016-10-08     2997   40  \n",
       "15          2016-09-15     3020   35  \n",
       "16          2016-08-15     3051   39  \n",
       "17          2016-11-08     2966   26  \n",
       "18          2016-08-30     3036   34  \n",
       "19          2016-05-09     3149   28  "
      ]
     },
     "execution_count": 42,
     "metadata": {},
     "output_type": "execute_result"
    }
   ],
   "source": [
    "# Check the results\n",
    "transaction_summary.head(20)"
   ]
  },
  {
   "cell_type": "markdown",
   "id": "fd50e576",
   "metadata": {
    "papermill": {
     "duration": 0.009433,
     "end_time": "2024-12-04T13:22:18.531610",
     "exception": false,
     "start_time": "2024-12-04T13:22:18.522177",
     "status": "completed"
    },
    "tags": []
   },
   "source": [
    "## Data Preprocessing for Clustering\r\n",
    "\r\n",
    "1. **Feature Selection**:  \r\n",
    "   - Select key features for clustering: **Age**, **TransactionCount**, **TotalAmount**, **AverageAmount**, and **Recency**.\r\n",
    "\r\n",
    "2. **Scaling**:  \r\n",
    "   - Use **StandardScaler** to standardize the features (mean = 0, standard deviation = 1).\r\n",
    "   - Ensures that all features contribute equally to the clustering process.\r\n",
    "\r\n",
    "3. **Why Scaling**:  \r\n",
    "   - Clustering algorithms like K-means require features to be on the same scale to avoid bias toward features with larger ranges.\r\n",
    "\r\n",
    "### Benefits:\r\n",
    "- **Improves Clustering**: Prevents certain features from dominating the model.\r\n",
    "- **Equal Contribution**: Ensures fair comparison between features.\r\n"
   ]
  },
  {
   "cell_type": "code",
   "execution_count": 43,
   "id": "21664c5f",
   "metadata": {
    "papermill": {
     "duration": 1.397056,
     "end_time": "2024-12-04T13:22:19.938343",
     "exception": false,
     "start_time": "2024-12-04T13:22:18.541287",
     "status": "completed"
    },
    "tags": []
   },
   "outputs": [],
   "source": [
    "from sklearn.preprocessing import StandardScaler\n",
    "\n",
    "# Select features for clustering\n",
    "features = transaction_summary[['Age', 'TransactionCount', 'TotalAmount', 'AverageAmount', 'Recency']]\n",
    "\n",
    "# Scale features\n",
    "scaler = StandardScaler()\n",
    "scaled_features = scaler.fit_transform(features)\n"
   ]
  },
  {
   "cell_type": "markdown",
   "id": "6980d323",
   "metadata": {
    "papermill": {
     "duration": 0.009376,
     "end_time": "2024-12-04T13:22:19.957611",
     "exception": false,
     "start_time": "2024-12-04T13:22:19.948235",
     "status": "completed"
    },
    "tags": []
   },
   "source": [
    "## Clustering with KMeans\r\n",
    "\r\n",
    "1. **Determine Optimal Clusters**:\r\n",
    "   - We use the **Elbow Method** to determine the optimal number of clusters (k). This involves running KMeans for different values of k (from 1 to 9) and plotting **inertia** (within-cluster sum of squares) to find the \"elbow\" point where inertia decreases sharply.\r\n",
    "   - The **elbow point** indicates the optimal number of clusters.\r\n",
    "\r\n",
    "2. **Elbow Method Plot**:\r\n",
    "   - The plot shows inertia vs. the number of clusters, helping identify the best k. In this case, the elbow occurs at **k = 4**, which is chosen as the optimal number of clusters.\r\n",
    "\r\n",
    "3. **Fit KMeans**:\r\n",
    "   - We apply **KMeans clustering** with 4 clusters and assign each transaction to a cluster.\r\n",
    "   - The **Cluster** column is added to the `transaction_summary` DataFrame, which contains the cluster label for each transaction.\r\n",
    "\r\n",
    "### Benefits:\r\n",
    "- **Optimal Clusters**: Using the elbow method helps find the ideal number of clusters for the dataset.\r\n",
    "- **Cluster Assignment**: Each data point is grouped into one of the clusters, useful for segmentation and analysis.\r\n"
   ]
  },
  {
   "cell_type": "code",
   "execution_count": 44,
   "id": "169ec694",
   "metadata": {
    "papermill": {
     "duration": 33.436478,
     "end_time": "2024-12-04T13:22:53.403861",
     "exception": false,
     "start_time": "2024-12-04T13:22:19.967383",
     "status": "completed"
    },
    "tags": []
   },
   "outputs": [
    {
     "name": "stderr",
     "output_type": "stream",
     "text": [
      "C:\\Users\\Admin\\anaconda3\\Lib\\site-packages\\sklearn\\cluster\\_kmeans.py:870: FutureWarning: The default value of `n_init` will change from 10 to 'auto' in 1.4. Set the value of `n_init` explicitly to suppress the warning\n",
      "  warnings.warn(\n",
      "C:\\Users\\Admin\\anaconda3\\Lib\\site-packages\\sklearn\\cluster\\_kmeans.py:870: FutureWarning: The default value of `n_init` will change from 10 to 'auto' in 1.4. Set the value of `n_init` explicitly to suppress the warning\n",
      "  warnings.warn(\n",
      "C:\\Users\\Admin\\anaconda3\\Lib\\site-packages\\sklearn\\cluster\\_kmeans.py:870: FutureWarning: The default value of `n_init` will change from 10 to 'auto' in 1.4. Set the value of `n_init` explicitly to suppress the warning\n",
      "  warnings.warn(\n",
      "C:\\Users\\Admin\\anaconda3\\Lib\\site-packages\\sklearn\\cluster\\_kmeans.py:870: FutureWarning: The default value of `n_init` will change from 10 to 'auto' in 1.4. Set the value of `n_init` explicitly to suppress the warning\n",
      "  warnings.warn(\n",
      "C:\\Users\\Admin\\anaconda3\\Lib\\site-packages\\sklearn\\cluster\\_kmeans.py:870: FutureWarning: The default value of `n_init` will change from 10 to 'auto' in 1.4. Set the value of `n_init` explicitly to suppress the warning\n",
      "  warnings.warn(\n",
      "C:\\Users\\Admin\\anaconda3\\Lib\\site-packages\\sklearn\\cluster\\_kmeans.py:870: FutureWarning: The default value of `n_init` will change from 10 to 'auto' in 1.4. Set the value of `n_init` explicitly to suppress the warning\n",
      "  warnings.warn(\n",
      "C:\\Users\\Admin\\anaconda3\\Lib\\site-packages\\sklearn\\cluster\\_kmeans.py:870: FutureWarning: The default value of `n_init` will change from 10 to 'auto' in 1.4. Set the value of `n_init` explicitly to suppress the warning\n",
      "  warnings.warn(\n",
      "C:\\Users\\Admin\\anaconda3\\Lib\\site-packages\\sklearn\\cluster\\_kmeans.py:870: FutureWarning: The default value of `n_init` will change from 10 to 'auto' in 1.4. Set the value of `n_init` explicitly to suppress the warning\n",
      "  warnings.warn(\n",
      "C:\\Users\\Admin\\anaconda3\\Lib\\site-packages\\sklearn\\cluster\\_kmeans.py:870: FutureWarning: The default value of `n_init` will change from 10 to 'auto' in 1.4. Set the value of `n_init` explicitly to suppress the warning\n",
      "  warnings.warn(\n"
     ]
    },
    {
     "data": {
      "image/png": "[encoded data removed]",
      "text/plain": [
       "<Figure size 640x480 with 1 Axes>"
      ]
     },
     "metadata": {},
     "output_type": "display_data"
    }
   ],
   "source": [
    "from sklearn.cluster import KMeans\n",
    "import matplotlib.pyplot as plt\n",
    "\n",
    "# Determine optimal number of clusters\n",
    "inertia = []\n",
    "for k in range(1, 10):\n",
    "    kmeans = KMeans(n_clusters=k, random_state=42)\n",
    "    kmeans.fit(scaled_features)\n",
    "    inertia.append(kmeans.inertia_)\n",
    "\n",
    "# Plot the elbow curve\n",
    "plt.plot(range(1, 10), inertia, marker='o')\n",
    "plt.title('Elbow Method')\n",
    "plt.xlabel('Number of Clusters')\n",
    "plt.ylabel('Inertia')\n",
    "plt.show()"
   ]
  },
  {
   "cell_type": "code",
   "execution_count": 45,
   "id": "f56c1908",
   "metadata": {
    "papermill": {
     "duration": 2.852318,
     "end_time": "2024-12-04T13:22:56.266833",
     "exception": false,
     "start_time": "2024-12-04T13:22:53.414515",
     "status": "completed"
    },
    "tags": []
   },
   "outputs": [
    {
     "name": "stderr",
     "output_type": "stream",
     "text": [
      "C:\\Users\\Admin\\anaconda3\\Lib\\site-packages\\sklearn\\cluster\\_kmeans.py:870: FutureWarning: The default value of `n_init` will change from 10 to 'auto' in 1.4. Set the value of `n_init` explicitly to suppress the warning\n",
      "  warnings.warn(\n"
     ]
    }
   ],
   "source": [
    "# Fit KMeans with optimal number of clusters\n",
    "optimal_k = 4  # Choose based on the elbow method\n",
    "kmeans = KMeans(n_clusters=optimal_k, random_state=42)\n",
    "transaction_summary['Cluster'] = kmeans.fit_predict(scaled_features)"
   ]
  },
  {
   "cell_type": "code",
   "execution_count": 46,
   "id": "e3761a44",
   "metadata": {
    "papermill": {
     "duration": 0.089034,
     "end_time": "2024-12-04T13:22:56.367012",
     "exception": false,
     "start_time": "2024-12-04T13:22:56.277978",
     "status": "completed"
    },
    "tags": []
   },
   "outputs": [
    {
     "name": "stdout",
     "output_type": "stream",
     "text": [
      "   Cluster  Age  TransactionCount  TotalAmount  AverageAmount  Recency\n",
      "0        0   28                 1   89,747,505            264    3,039\n",
      "1        1   30                 1  153,111,921          1,394    3,046\n",
      "2        2   28                 1   38,154,287            339    3,210\n",
      "3        3   28                 2   69,608,407            472    3,027\n"
     ]
    }
   ],
   "source": [
    "# Use agg() to get key statistics for each cluster, focusing on a few columns\n",
    "cluster_summary = transaction_summary.groupby('Cluster').agg({\n",
    "    'Age': 'mean', \n",
    "    'TransactionCount': 'mean', \n",
    "    'TotalAmount': 'sum',\n",
    "    'AverageAmount': 'mean',\n",
    "    'Recency': 'median'  # Use median for recency instead of mean to reduce outliers\n",
    "}).reset_index()\n",
    "\n",
    "print(cluster_summary)\n",
    "\n",
    "# Add descriptive labels based on cluster indices\n",
    "cluster_labels = {\n",
    "    0: 'Young High Spenders',\n",
    "    1: 'Senior Regulars',\n",
    "    2: 'Occasional Low Spenders',\n",
    "    3: 'Urban Frequent Shoppers'\n",
    "}\n",
    "\n",
    "transaction_summary['Segment'] = transaction_summary['Cluster'].map(cluster_labels)"
   ]
  },
  {
   "cell_type": "markdown",
   "id": "1bcc01a5",
   "metadata": {
    "papermill": {
     "duration": 0.010678,
     "end_time": "2024-12-04T13:22:56.389244",
     "exception": false,
     "start_time": "2024-12-04T13:22:56.378566",
     "status": "completed"
    },
    "tags": []
   },
   "source": [
    "### Code Explanation\n",
    "\n",
    "1. **Aggregate Cluster Statistics**:\n",
    "   - Group data by `Cluster` and compute:\n",
    "     - **Age**: Average customer age.\n",
    "     - **TransactionCount**: Average transactions per cluster.\n",
    "     - **TotalAmount**: Total spending in each cluster.\n",
    "     - **AverageAmount**: Mean transaction value.\n",
    "     - **Recency**: Median days since last transaction (reduces outliers).\n",
    "\n",
    "2. **Reset Index**:\n",
    "   - Converts the grouped data back to a standard DataFrame.\n",
    "\n",
    "3. **Add Descriptive Labels**:\n",
    "   - Use `cluster_labels` dictionary to assign meaningful names to clusters:\n",
    "     - e.g., Cluster `0` → **'Young High Spenders'**. demographics.\r\n",
    "\n",
    "\n",
    "4. **Update DataFrame**:\n",
    "   - Map `Cluster` to labels and create a new `S\n",
    "  \n",
    "### Cluster Labels Explanation\n",
    "\n",
    "1. **Young High Spenders** (`0`):\n",
    "   - Young customers with high transaction amounts.\n",
    "\n",
    "2. **Senior Regulars** (`1`):\n",
    "   - Older customers with consistent shopping patterns.\n",
    "\n",
    "3. **Occasional Low Spenders** (`2`):\n",
    "   - Customers with infrequent and low transaction amounts.\n",
    "\n",
    "4. **Urban Frequent Shoppers** (`3`):\n",
    "   - Urban-based customers with frequent shopping behavior.\n",
    "\n",
    "These labels describe customer segments based on their shopping habits and demographics.egment` column.\n",
    "\n",
    "### Purpose\n",
    "Summarize cluster data and assign descriptive labels for easier interpretation."
   ]
  },
  {
   "cell_type": "code",
   "execution_count": 47,
   "id": "6400424c",
   "metadata": {
    "papermill": {
     "duration": 19.072044,
     "end_time": "2024-12-04T13:23:15.472227",
     "exception": false,
     "start_time": "2024-12-04T13:22:56.400183",
     "status": "completed"
    },
    "tags": []
   },
   "outputs": [
    {
     "data": {
      "image/png": "[encoded data removed]",
      "text/plain": [
       "<Figure size 1000x600 with 1 Axes>"
      ]
     },
     "metadata": {},
     "output_type": "display_data"
    }
   ],
   "source": [
    "import seaborn as sns\n",
    "import matplotlib.pyplot as plt\n",
    "\n",
    "# Scatter plot to visualize clusters\n",
    "plt.figure(figsize=(10, 6))\n",
    "sns.scatterplot(data=transaction_summary, x='TotalAmount', y='AverageAmount', hue='Segment', palette='viridis')\n",
    "plt.title('Customer Segments by Total and Average Transaction Amount')\n",
    "plt.xlabel('Total Transaction Amount')\n",
    "plt.ylabel('Average Transaction Amount')\n",
    "plt.legend(title='Customer Segment')\n",
    "plt.show()\n"
   ]
  },
  {
   "cell_type": "code",
   "execution_count": 26,
   "id": "e6eb467b",
   "metadata": {
    "execution": {
     "iopub.execute_input": "2024-12-04T13:23:15.501756Z",
     "iopub.status.busy": "2024-12-04T13:23:15.501214Z",
     "iopub.status.idle": "2024-12-04T13:23:15.802378Z",
     "shell.execute_reply": "2024-12-04T13:23:15.800775Z"
    },
    "papermill": {
     "duration": 0.318843,
     "end_time": "2024-12-04T13:23:15.805154",
     "exception": false,
     "start_time": "2024-12-04T13:23:15.486311",
     "status": "completed"
    },
    "tags": []
   },
   "outputs": [
    {
     "data": {
      "image/png": "[encoded data removed]",
      "text/plain": [
       "<Figure size 1000x600 with 1 Axes>"
      ]
     },
     "metadata": {},
     "output_type": "display_data"
    }
   ],
   "source": [
    "# Bar plot to visualize the size of each segment\n",
    "segment_size = transaction_summary['Segment'].value_counts()\n",
    "plt.figure(figsize=(10, 6))\n",
    "sns.barplot(x=segment_size.index, y=segment_size.values, palette='Set2')\n",
    "plt.title('Customer Segment Size')\n",
    "plt.xlabel('Customer Segment')\n",
    "plt.ylabel('Number of Customers')\n",
    "plt.xticks(rotation=45)\n",
    "plt.show()\n"
   ]
  },
  {
   "cell_type": "code",
   "execution_count": 48,
   "id": "96632599",
   "metadata": {
    "papermill": {
     "duration": 0.227348,
     "end_time": "2024-12-04T13:23:16.046731",
     "exception": false,
     "start_time": "2024-12-04T13:23:15.819383",
     "status": "completed"
    },
    "tags": []
   },
   "outputs": [
    {
     "data": {
      "image/png": "[encoded data removed]",
      "text/plain": [
       "<Figure size 600x600 with 1 Axes>"
      ]
     },
     "metadata": {},
     "output_type": "display_data"
    }
   ],
   "source": [
    "# Pie plot to visualize the proportion of each customer segment\n",
    "segment_counts = transaction_summary['Segment'].value_counts()\n",
    "\n",
    "plt.figure(figsize=(6, 6))\n",
    "plt.pie(segment_counts, labels=segment_counts.index, autopct='%1.1f%%', startangle=180, colors=sns.color_palette('Set2', len(segment_counts)))\n",
    "plt.title('Customer Segment Distribution')\n",
    "plt.axis('equal')  # Equal aspect ratio ensures that pie is drawn as a circle.\n",
    "plt.show()"
   ]
  },
  {
   "cell_type": "code",
   "execution_count": null,
   "id": "19df1af9-1d33-43ed-a30a-ab4b3b10b26f",
   "metadata": {},
   "outputs": [],
   "source": []
  }
 ],
 "metadata": {
  "kaggle": {
   "accelerator": "none",
   "dataSources": [
    {
     "datasetId": 1672910,
     "sourceId": 2743905,
     "sourceType": "datasetVersion"
    }
   ],
   "dockerImageVersionId": 30804,
   "isGpuEnabled": false,
   "isInternetEnabled": true,
   "language": "python",
   "sourceType": "notebook"
  },
  "kernelspec": {
   "display_name": "Python 3 (ipykernel)",
   "language": "python",
   "name": "python3"
  },
  "language_info": {
   "codemirror_mode": {
    "name": "ipython",
    "version": 3
   },
   "file_extension": ".py",
   "mimetype": "text/x-python",
   "name": "python",
   "nbconvert_exporter": "python",
   "pygments_lexer": "ipython3",
   "version": "3.11.7"
  },
  "papermill": {
   "default_parameters": {},
   "duration": 128.034713,
   "end_time": "2024-12-04T13:23:16.900159",
   "environment_variables": {},
   "exception": null,
   "input_path": "__notebook__.ipynb",
   "output_path": "__notebook__.ipynb",
   "parameters": {},
   "start_time": "2024-12-04T13:21:08.865446",
   "version": "2.6.0"
  }
 },
 "nbformat": 4,
 "nbformat_minor": 5
}
